{
 "cells": [
  {
   "cell_type": "code",
   "execution_count": null,
   "id": "0",
   "metadata": {},
   "outputs": [],
   "source": [
    "%matplotlib inline\n",
    "import matplotlib.pyplot as plt"
   ]
  },
  {
   "cell_type": "code",
   "execution_count": null,
   "id": "1",
   "metadata": {},
   "outputs": [],
   "source": [
    "country_names = ['USA', 'Argentina', 'Brazil', 'Ukraine', \n",
    "                 'France', 'Russia', 'Romania', 'Hungary']\n",
    "data = [10027, 4359, 4013, 2261, 1618, 828, 750, 627]"
   ]
  },
  {
   "cell_type": "code",
   "execution_count": null,
   "id": "2",
   "metadata": {},
   "outputs": [],
   "source": [
    "plt.bar(country_names, [amount / data[0] for amount in data])\n",
    "plt.title('Relative maize exports by country')\n",
    "plt.xlabel('Country')\n",
    "plt.ylabel('Relative exports')\n",
    "plt.show()"
   ]
  },
  {
   "cell_type": "code",
   "execution_count": null,
   "id": "3",
   "metadata": {},
   "outputs": [],
   "source": [
    "subsidy_areas = [\"Corn/feed\", \"Cotton\", \"Soybean\", \"Wheat\", \n",
    "                 \"Tobacco\", \"Dairy\", \"Rice\", \"Peanut\"]\n",
    "data = [7.3, 3.5, 1.6, 1.5, 1.5, 0.686, 0.626, 0.271]"
   ]
  },
  {
   "cell_type": "code",
   "execution_count": null,
   "id": "4",
   "metadata": {},
   "outputs": [],
   "source": [
    "plt.pie(data, labels=[\n",
    "    f'{area} ${amount}M'\n",
    "    for area, amount in zip(subsidy_areas, data)\n",
    "])\n",
    "plt.title('US farm subsidy by crop')\n",
    "plt.show()"
   ]
  },
  {
   "cell_type": "code",
   "execution_count": null,
   "id": "5",
   "metadata": {},
   "outputs": [],
   "source": []
  }
 ],
 "metadata": {
  "kernelspec": {
   "display_name": "Python 3",
   "language": "python",
   "name": "python3"
  },
  "language_info": {
   "codemirror_mode": {
    "name": "ipython",
    "version": 3
   },
   "file_extension": ".py",
   "mimetype": "text/x-python",
   "name": "python",
   "nbconvert_exporter": "python",
   "pygments_lexer": "ipython3",
   "version": "3.8.5"
  }
 },
 "nbformat": 4,
 "nbformat_minor": 5
}
